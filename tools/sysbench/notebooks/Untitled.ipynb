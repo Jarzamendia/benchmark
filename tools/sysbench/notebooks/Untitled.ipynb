{
 "cells": [
  {
   "cell_type": "code",
   "execution_count": 3,
   "id": "a1ffb4d5-b481-4c3e-8e29-407b574b8351",
   "metadata": {},
   "outputs": [],
   "source": [
    "from itertools import ifilter"
   ]
  },
  {
   "cell_type": "code",
   "execution_count": 7,
   "id": "cd80244b-9f4e-414f-be9b-974ad7f12924",
   "metadata": {},
   "outputs": [
    {
     "data": {
      "text/plain": [
       "['sysbench,|,threads,|,events/s,|,time,|,min,|,avg,|,max,|,95th,|\\n',\n",
       " 'sysbench,|,threads,|,events/s,|,time,|,min,|,avg,|,max,|,95th,|\\n']"
      ]
     },
     "execution_count": 7,
     "metadata": {},
     "output_type": "execute_result"
    }
   ],
   "source": [
    "([ line for line in open('results/cpu-Standard_B4ms-2022.11.11-21.57.34.txt') if 'sysbench,' in line])\n"
   ]
  },
  {
   "cell_type": "code",
   "execution_count": null,
   "id": "f183478b-6a4c-4b94-acd1-63cb819c2928",
   "metadata": {},
   "outputs": [],
   "source": []
  }
 ],
 "metadata": {
  "kernelspec": {
   "display_name": "Python 3 (ipykernel)",
   "language": "python",
   "name": "python3"
  },
  "language_info": {
   "codemirror_mode": {
    "name": "ipython",
    "version": 3
   },
   "file_extension": ".py",
   "mimetype": "text/x-python",
   "name": "python",
   "nbconvert_exporter": "python",
   "pygments_lexer": "ipython3",
   "version": "3.10.6"
  }
 },
 "nbformat": 4,
 "nbformat_minor": 5
}
